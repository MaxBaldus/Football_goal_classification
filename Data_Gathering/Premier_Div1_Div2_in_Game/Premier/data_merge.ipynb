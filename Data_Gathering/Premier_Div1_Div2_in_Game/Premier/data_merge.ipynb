{
 "cells": [
  {
   "cell_type": "markdown",
   "metadata": {},
   "source": [
    "Append all Datasets"
   ]
  },
  {
   "cell_type": "code",
   "execution_count": 1,
   "metadata": {},
   "outputs": [],
   "source": [
    "# Import all the necessary libraries\n",
    "\n",
    "import numpy as np\n",
    "import pandas as pd\n",
    "from datetime import datetime as dt\n",
    "import itertools\n",
    "\n",
    "%matplotlib inline"
   ]
  },
  {
   "cell_type": "code",
   "execution_count": 2,
   "metadata": {},
   "outputs": [],
   "source": [
    "loc = \"/home/max/Dokumente/Projekte/Football_Game_Prediction/Data_Gathering/Buli1_2_in_Game/\""
   ]
  },
  {
   "cell_type": "code",
   "execution_count": 10,
   "metadata": {},
   "outputs": [],
   "source": [
    "raw_data_20 = pd.read_csv(loc + '2019_2020_ingame_1und2.csv', sep=',', encoding='gbk')\n",
    "raw_data_19 = pd.read_csv(loc + '2018_2019_ingame_1und2.csv', sep=',', encoding='gbk')\n",
    "raw_data_18 = pd.read_csv(loc + '2017_2018_ingame_1und2.csv', sep=',', encoding='gbk')\n",
    "raw_data_17 = pd.read_csv(loc + '2016_2017_ingame_1und2.csv', sep=',', encoding='gbk')\n",
    "raw_data_16 = pd.read_csv(loc + '2015_2016_ingame_1und2.csv', sep=',', encoding='gbk')\n",
    "raw_data_15 = pd.read_csv(loc + '2014_2015_ingame_1und2.csv', sep=',', encoding='gbk')\n",
    "raw_data_14 = pd.read_csv(loc + '2013_2014_ingame_1und2.csv', sep=',', encoding='gbk')\n",
    "raw_data_13 = pd.read_csv(loc + '2012_2013_ingame_1und2.csv', sep=',', encoding='gbk')\n",
    "raw_data_12 = pd.read_csv(loc + '2011_2012_ingame_1und2.csv', sep=',', encoding='gbk')\n",
    "raw_data_11 = pd.read_csv(loc + '2010_2011_ingame_1und2.csv', sep=',', encoding='gbk')\n",
    "raw_data_10 = pd.read_csv(loc + '2009_2010_ingame_1und2.csv', sep=',', encoding='gbk')\n",
    "raw_data_09 = pd.read_csv(loc + '2008_2009_ingame_1und2.csv', sep=',', encoding='gbk')\n",
    "raw_data_08 = pd.read_csv(loc + '2007_2008_ingame_1und2.csv', sep=',', encoding='gbk')\n",
    "raw_data_07 = pd.read_csv(loc + '2006_2007_ingame_1und2.csv', sep=',', encoding='gbk')\n"
   ]
  },
  {
   "cell_type": "code",
   "execution_count": 13,
   "metadata": {},
   "outputs": [],
   "source": [
    "data = pd.concat([raw_data_20, raw_data_19, raw_data_18, raw_data_17, raw_data_16, raw_data_15, raw_data_14, \n",
    "                  raw_data_13, raw_data_12, raw_data_11, raw_data_10, raw_data_09, raw_data_08, raw_data_07],\n",
    "                  ignore_index=True)"
   ]
  },
  {
   "cell_type": "code",
   "execution_count": 14,
   "metadata": {},
   "outputs": [],
   "source": [
    "data.to_csv(loc + \"final_dataset.csv\")\n",
    "# playing_stat_test.to_csv(loc+\"test.csv\")"
   ]
  }
 ],
 "metadata": {
  "kernelspec": {
   "display_name": "Python 3",
   "language": "python",
   "name": "python3"
  },
  "language_info": {
   "codemirror_mode": {
    "name": "ipython",
    "version": 3
   },
   "file_extension": ".py",
   "mimetype": "text/x-python",
   "name": "python",
   "nbconvert_exporter": "python",
   "pygments_lexer": "ipython3",
   "version": "3.8.3"
  }
 },
 "nbformat": 4,
 "nbformat_minor": 4
}
