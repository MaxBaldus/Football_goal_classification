{
 "cells": [
  {
   "cell_type": "markdown",
   "metadata": {},
   "source": [
    "Append all Datasets"
   ]
  },
  {
   "cell_type": "code",
   "execution_count": 14,
   "metadata": {},
   "outputs": [],
   "source": [
    "# Import all the necessary libraries\n",
    "\n",
    "import numpy as np\n",
    "import pandas as pd\n",
    "from datetime import datetime as dt\n",
    "import itertools\n",
    "\n",
    "%matplotlib inline"
   ]
  },
  {
   "cell_type": "code",
   "execution_count": 15,
   "metadata": {},
   "outputs": [],
   "source": [
    "loc_buli = \"/home/max/Dokumente/Projekte/Football_Game_Prediction/Data_Gathering/Buli1_2_in_Game/\"\n",
    "loc_france = \"/home/max/Dokumente/Projekte/Football_Game_Prediction/Data_Gathering/Frankreich/Erste/\"\n",
    "loc_italy = \"/home/max/Dokumente/Projekte/Football_Game_Prediction/Data_Gathering/Italien/Serie_A/\"\n",
    "loc_spanien = \"/home/max/Dokumente/Projekte/Football_Game_Prediction/Data_Gathering/La_Liga_1_und_2_in_Game_Spanien/Primera/\"\n",
    "loc_nieder = \"/home/max/Dokumente/Projekte/Football_Game_Prediction/Data_Gathering/Netherlands/\"\n",
    "loc_portu = \"/home/max/Dokumente/Projekte/Football_Game_Prediction/Data_Gathering/Portugal/\"\n",
    "loc_eng1 = \"/home/max/Dokumente/Projekte/Football_Game_Prediction/Data_Gathering/Premier_Div1_Div2_in_Game/league_1/\"\n",
    "loc_eng2 = \"/home/max/Dokumente/Projekte/Football_Game_Prediction/Data_Gathering/Premier_Div1_Div2_in_Game/league_2/\"\n",
    "loc_premier = \"/home/max/Dokumente/Projekte/Football_Game_Prediction/Data_Gathering/Premier_Div1_Div2_in_Game/Premier/\"\n",
    "loc_schott = \"/home/max/Dokumente/Projekte/Football_Game_Prediction/Data_Gathering/Schottland/Premier/\"\n",
    "loc_turky = \"/home/max/Dokumente/Projekte/Football_Game_Prediction/Data_Gathering/Turky/\""
   ]
  },
  {
   "cell_type": "code",
   "execution_count": 16,
   "metadata": {},
   "outputs": [],
   "source": [
    "raw_data_20 = pd.read_csv(loc_buli + 'final_dataset_buli_1_2.csv', sep=',', encoding='gbk')\n",
    "\n",
    "raw_data_19 = pd.read_csv(loc_france + 'final_championnat_.csv', sep=',', encoding='gbk')\n",
    "\n",
    "raw_data_18 = pd.read_csv(loc_italy + 'final_dataset_serie_A.csv', sep=',', encoding='gbk')\n",
    "\n",
    "raw_data_17 = pd.read_csv(loc_spanien + 'final_dataset_primera.csv', sep=',', encoding='gbk')\n",
    "\n",
    "raw_data_16 = pd.read_csv(loc_nieder + 'final_dataframe_netherlands.csv', sep=',', encoding='gbk')\n",
    "\n",
    "raw_data_15 = pd.read_csv(loc_portu + 'final_dataframe_portugal.csv', sep=',', encoding='gbk')\n",
    "\n",
    "raw_data_14 = pd.read_csv(loc_eng1 + 'final_dataset_league1.csv', sep=',', encoding='gbk')\n",
    "\n",
    "raw_data_13 = pd.read_csv(loc_eng2 + 'final_dataset_league2.csv', sep=',', encoding='gbk')\n",
    "\n",
    "raw_data_12 = pd.read_csv(loc_premier + 'final_dataset_premier.csv', sep=',', encoding='gbk')\n",
    "\n",
    "raw_data_11 = pd.read_csv(loc_schott + 'final_dataset_schottland_premier.csv', sep=',', encoding='gbk')\n",
    "\n",
    "raw_data_10 = pd.read_csv(loc_turky + 'final_dataframe_turky.csv', sep=',', encoding='gbk')\n"
   ]
  },
  {
   "cell_type": "code",
   "execution_count": 17,
   "metadata": {},
   "outputs": [],
   "source": [
    "data = pd.concat([raw_data_20, raw_data_19, raw_data_18, raw_data_17, raw_data_16, raw_data_15, raw_data_14, \n",
    "                  raw_data_13, raw_data_12, raw_data_11, raw_data_10],\n",
    "                  ignore_index=True)"
   ]
  },
  {
   "cell_type": "code",
   "execution_count": 18,
   "metadata": {},
   "outputs": [],
   "source": [
    "loc =  \"/home/max/Dokumente/Projekte/Football_Game_Prediction/Data_Gathering/\""
   ]
  },
  {
   "cell_type": "code",
   "execution_count": 19,
   "metadata": {},
   "outputs": [],
   "source": [
    "data.to_csv(loc + \"final_dataset.csv\")\n",
    "# playing_stat_test.to_csv(loc+\"test.csv\")"
   ]
  }
 ],
 "metadata": {
  "kernelspec": {
   "display_name": "Python 3",
   "language": "python",
   "name": "python3"
  },
  "language_info": {
   "codemirror_mode": {
    "name": "ipython",
    "version": 3
   },
   "file_extension": ".py",
   "mimetype": "text/x-python",
   "name": "python",
   "nbconvert_exporter": "python",
   "pygments_lexer": "ipython3",
   "version": "3.8.3"
  }
 },
 "nbformat": 4,
 "nbformat_minor": 4
}
